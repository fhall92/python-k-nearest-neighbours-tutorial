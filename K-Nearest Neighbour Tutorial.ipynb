{
 "cells": [
  {
   "cell_type": "markdown",
   "metadata": {},
   "source": [
    "# K-Nearest Neighbours Movie Recommendation System\n"
   ]
  },
  {
   "cell_type": "markdown",
   "metadata": {},
   "source": [
    "### Name: Francis Hall\n",
    "### Student Number: C00220910"
   ]
  },
  {
   "cell_type": "markdown",
   "metadata": {},
   "source": [
    "# Introduction"
   ]
  },
  {
   "cell_type": "markdown",
   "metadata": {},
   "source": [
    "“The Jupyter Notebook is an open-source web application that allows you to create and share documents that contain live code, equations, visualizations and narrative text. Uses include: data cleaning and transformation, numerical simulation, statistical modelling, data visualization, machine learning, and much more.” [1]\n",
    "\n",
    "The purpose of this project is to provide a short technical data science revision tutorial focused on a particular machine learning algorithm, in this case, the K-Nearest Neighbours algorithm.\n",
    "This tutorial will explain how the K-Nearest Neighbours alforithm works, and provide a practical example of the algorithm in use.\n",
    "\n",
    "The goal is that by the end of this tutorial, a base knowledge of the K-Nearest Neighbours algorithm will be gained, as well as experience implementing the algorithm in a practical setting.\n",
    "The tutorial also aims to provide a guide and general tips to aid in using some of the popular technologies and tools available for use in data science, including Jupyter Notebook, Pandas, NumPy and Matplotlib."
   ]
  },
  {
   "cell_type": "markdown",
   "metadata": {},
   "source": [
    "## Required Resources"
   ]
  },
  {
   "cell_type": "markdown",
   "metadata": {},
   "source": [
    "There are a few resources that will be necessary for the tutorial and as such, should be downloaded/installed before beginning the tutorial.\n",
    "\n",
    "#### Jupyter Notebook\n",
    "We will use Jupyter Notebook for this tutorial as it allows for code segments to be written inside cells, which may compile and run independently of each other. This is useful for a project such as this, as the project as a whole may be segmented into cells, making the project more easily readable and digestible.\n",
    "\n",
    "https://jupyter.org/\n",
    "\n",
    "#### Pandas\n",
    "Pandas is a free, open-source, data manipulation tool common for projects such as this, which allows us to import a dataset and clean, manipulate and explore it.\n",
    "\n",
    "https://pandas.pydata.org/\n",
    "\n",
    "#### Scikit-Learn\n",
    "Scikit-Learn is a data analysis tool which allows for the pre-processing of data as well as hosting a number of commonly used machine learning algorithms which may be used as functions on an imported dataset.\n",
    "\n",
    "https://scikit-learn.org/stable/\n",
    "\n",
    "#### The Dataset\n",
    "The practical example used in this tutorial will involve a movie recommendation system, and for this, we will need one dataset containing film titles and another containing user ratings related to the films in the former dataset.\n",
    "MovieLens provides a dataset which will be perfect for this purpose. This dataset is available in small or full size, and either one should work for this purpose.\n",
    "\n",
    "https://grouplens.org/datasets/movielens/latest/\n"
   ]
  },
  {
   "cell_type": "markdown",
   "metadata": {},
   "source": [
    "# Main Body of Tutorial"
   ]
  },
  {
   "cell_type": "markdown",
   "metadata": {},
   "source": [
    "## Problem Outline"
   ]
  },
  {
   "cell_type": "markdown",
   "metadata": {},
   "source": [
    "Recommendation systems exist on almost all streaming services and many e-commerce websites, and the purpose of these systems is to allow the websites to feature content that is relevant and tailored to your tastes.\n",
    "A popular example of this includes Netflix, which will actively recommend movies or TV shows to users based on their streaming history. Similarly, Amazon will recommend products based on previous orders.\n",
    "Recommendation systems have proven to be very effective and provide benefits to both service providers and users alike.\n",
    "Suppose we wanted to create a recommendation system that could recommend a list of movies that are a close match to one chosen movie.\n",
    "This can be achieved using all of the tools mentioned above as well as a classification algorithm known as K-Nearest Neighbours.\n"
   ]
  },
  {
   "cell_type": "markdown",
   "metadata": {},
   "source": [
    "## K-Nearest Neighbours"
   ]
  },
  {
   "cell_type": "markdown",
   "metadata": {},
   "source": [
    "K-Nearest Neighbours is a classification algorithm used in machine learning. It is a method for classifying objects based on the closest training examples.\n",
    "\n",
    "In K-Nearest Neighbours algorithm, data is divided into a test set and a training set.\n",
    "For each row in the test set, the k nearest objects are found based on a given distance metric.\n"
   ]
  },
  {
   "cell_type": "markdown",
   "metadata": {},
   "source": [
    "Here is a useful video explanation of K-Nearest Neighbours from StatQuest"
   ]
  },
  {
   "cell_type": "code",
   "execution_count": 1,
   "metadata": {},
   "outputs": [
    {
     "data": {
      "text/html": [
       "<iframe width=\"560\" height=\"315\" src=\"https://www.youtube.com/embed/HVXime0nQeI\" frameborder=\"0\" allow=\"accelerometer; autoplay; encrypted-media; gyroscope; picture-in-picture\" allowfullscreen></iframe>"
      ],
      "text/plain": [
       "<IPython.core.display.HTML object>"
      ]
     },
     "execution_count": 1,
     "metadata": {},
     "output_type": "execute_result"
    }
   ],
   "source": [
    "from IPython.display import HTML\n",
    "\n",
    "\n",
    "HTML('<iframe width=\"560\" height=\"315\" src=\"https://www.youtube.com/embed/HVXime0nQeI\" frameborder=\"0\" allow=\"accelerometer; autoplay; encrypted-media; gyroscope; picture-in-picture\" allowfullscreen></iframe>')"
   ]
  },
  {
   "cell_type": "markdown",
   "metadata": {},
   "source": [
    "## Jupyter Project Setup"
   ]
  },
  {
   "cell_type": "markdown",
   "metadata": {},
   "source": [
    "### Useful Features and Shortcuts"
   ]
  },
  {
   "cell_type": "markdown",
   "metadata": {},
   "source": [
    "Below are some useful keyboard shortcuts for managing a project in jupyter notebooks that may make the experience quicker and easier [2]:\n",
    "\n",
    "Delete Current Cell: D (twice)\n",
    "\n",
    "Undo Cell Deletion: Z\n",
    "\n",
    "Run current Cell: CTRL+Enter\n",
    "\n",
    "Run Current Cell and move to next cell: Shift+Enter\n",
    "\n",
    "Run Current Cell and Insert Cell Below: Alt+Enter\n",
    "\n",
    "Insert a new cell above the current cell: A\n",
    "\n",
    "Insert a new cell below the current cell: B\n",
    "\n",
    "Change Cell Type to Markdown: M\n",
    "\n",
    "Change Cell Type to Code: Y\n",
    "\n",
    "\n",
    "\n"
   ]
  },
  {
   "cell_type": "markdown",
   "metadata": {},
   "source": [
    "### Importing the Libraries"
   ]
  },
  {
   "cell_type": "markdown",
   "metadata": {},
   "source": [
    "First thing to do here is to import the relevant libraries, in this case, Pandas, Matplotlib and NumPy.\n",
    "We will name these instances here and use these names later to call the imported libraries"
   ]
  },
  {
   "cell_type": "code",
   "execution_count": 2,
   "metadata": {},
   "outputs": [],
   "source": [
    "import pandas as pd\n",
    "import numpy as np\n",
    "import matplotlib.pyplot as plt"
   ]
  },
  {
   "cell_type": "markdown",
   "metadata": {},
   "source": [
    "### Importing the Dataset"
   ]
  },
  {
   "cell_type": "markdown",
   "metadata": {},
   "source": [
    "Now we will import the dataset, or in this case, two datasets that we need. The datasets being imported should be in the same folder as your Jupyter Notebook file."
   ]
  },
  {
   "cell_type": "code",
   "execution_count": 3,
   "metadata": {},
   "outputs": [],
   "source": [
    "movies = pd.read_csv('movies.csv')"
   ]
  },
  {
   "cell_type": "code",
   "execution_count": 4,
   "metadata": {},
   "outputs": [],
   "source": [
    "ratings = pd.read_csv('ratings.csv')"
   ]
  },
  {
   "cell_type": "markdown",
   "metadata": {},
   "source": [
    "### Exploring the Dataset"
   ]
  },
  {
   "cell_type": "markdown",
   "metadata": {},
   "source": [
    "Now that we have the datasets imported, we may use some builtin functions from Pandas to explore the dataset a little."
   ]
  },
  {
   "cell_type": "markdown",
   "metadata": {},
   "source": [
    "#### .head() function\n",
    "The .head() function will return the top functions of a dataset.\n",
    "Using this function, we get an example of how the data is structured.\n",
    "By default, and without taking in any argument, this function will return the top 5 rows of the dataset.\n"
   ]
  },
  {
   "cell_type": "code",
   "execution_count": 5,
   "metadata": {},
   "outputs": [
    {
     "data": {
      "text/html": [
       "<div>\n",
       "<style scoped>\n",
       "    .dataframe tbody tr th:only-of-type {\n",
       "        vertical-align: middle;\n",
       "    }\n",
       "\n",
       "    .dataframe tbody tr th {\n",
       "        vertical-align: top;\n",
       "    }\n",
       "\n",
       "    .dataframe thead th {\n",
       "        text-align: right;\n",
       "    }\n",
       "</style>\n",
       "<table border=\"1\" class=\"dataframe\">\n",
       "  <thead>\n",
       "    <tr style=\"text-align: right;\">\n",
       "      <th></th>\n",
       "      <th>movieId</th>\n",
       "      <th>title</th>\n",
       "      <th>genres</th>\n",
       "    </tr>\n",
       "  </thead>\n",
       "  <tbody>\n",
       "    <tr>\n",
       "      <th>0</th>\n",
       "      <td>1</td>\n",
       "      <td>Toy Story (1995)</td>\n",
       "      <td>Adventure|Animation|Children|Comedy|Fantasy</td>\n",
       "    </tr>\n",
       "    <tr>\n",
       "      <th>1</th>\n",
       "      <td>2</td>\n",
       "      <td>Jumanji (1995)</td>\n",
       "      <td>Adventure|Children|Fantasy</td>\n",
       "    </tr>\n",
       "    <tr>\n",
       "      <th>2</th>\n",
       "      <td>3</td>\n",
       "      <td>Grumpier Old Men (1995)</td>\n",
       "      <td>Comedy|Romance</td>\n",
       "    </tr>\n",
       "    <tr>\n",
       "      <th>3</th>\n",
       "      <td>4</td>\n",
       "      <td>Waiting to Exhale (1995)</td>\n",
       "      <td>Comedy|Drama|Romance</td>\n",
       "    </tr>\n",
       "    <tr>\n",
       "      <th>4</th>\n",
       "      <td>5</td>\n",
       "      <td>Father of the Bride Part II (1995)</td>\n",
       "      <td>Comedy</td>\n",
       "    </tr>\n",
       "  </tbody>\n",
       "</table>\n",
       "</div>"
      ],
      "text/plain": [
       "   movieId                               title  \\\n",
       "0        1                    Toy Story (1995)   \n",
       "1        2                      Jumanji (1995)   \n",
       "2        3             Grumpier Old Men (1995)   \n",
       "3        4            Waiting to Exhale (1995)   \n",
       "4        5  Father of the Bride Part II (1995)   \n",
       "\n",
       "                                        genres  \n",
       "0  Adventure|Animation|Children|Comedy|Fantasy  \n",
       "1                   Adventure|Children|Fantasy  \n",
       "2                               Comedy|Romance  \n",
       "3                         Comedy|Drama|Romance  \n",
       "4                                       Comedy  "
      ]
     },
     "execution_count": 5,
     "metadata": {},
     "output_type": "execute_result"
    }
   ],
   "source": [
    "movies.head()"
   ]
  },
  {
   "cell_type": "markdown",
   "metadata": {},
   "source": [
    "By passing an integer as an argument into the .head function, we may view that number of rows.\n",
    "ie. dataframe.head(x) will return the top x rows."
   ]
  },
  {
   "cell_type": "code",
   "execution_count": 6,
   "metadata": {
    "scrolled": true
   },
   "outputs": [
    {
     "data": {
      "text/html": [
       "<div>\n",
       "<style scoped>\n",
       "    .dataframe tbody tr th:only-of-type {\n",
       "        vertical-align: middle;\n",
       "    }\n",
       "\n",
       "    .dataframe tbody tr th {\n",
       "        vertical-align: top;\n",
       "    }\n",
       "\n",
       "    .dataframe thead th {\n",
       "        text-align: right;\n",
       "    }\n",
       "</style>\n",
       "<table border=\"1\" class=\"dataframe\">\n",
       "  <thead>\n",
       "    <tr style=\"text-align: right;\">\n",
       "      <th></th>\n",
       "      <th>userId</th>\n",
       "      <th>movieId</th>\n",
       "      <th>rating</th>\n",
       "      <th>timestamp</th>\n",
       "    </tr>\n",
       "  </thead>\n",
       "  <tbody>\n",
       "    <tr>\n",
       "      <th>0</th>\n",
       "      <td>1</td>\n",
       "      <td>307</td>\n",
       "      <td>3.5</td>\n",
       "      <td>1256677221</td>\n",
       "    </tr>\n",
       "    <tr>\n",
       "      <th>1</th>\n",
       "      <td>1</td>\n",
       "      <td>481</td>\n",
       "      <td>3.5</td>\n",
       "      <td>1256677456</td>\n",
       "    </tr>\n",
       "    <tr>\n",
       "      <th>2</th>\n",
       "      <td>1</td>\n",
       "      <td>1091</td>\n",
       "      <td>1.5</td>\n",
       "      <td>1256677471</td>\n",
       "    </tr>\n",
       "    <tr>\n",
       "      <th>3</th>\n",
       "      <td>1</td>\n",
       "      <td>1257</td>\n",
       "      <td>4.5</td>\n",
       "      <td>1256677460</td>\n",
       "    </tr>\n",
       "    <tr>\n",
       "      <th>4</th>\n",
       "      <td>1</td>\n",
       "      <td>1449</td>\n",
       "      <td>4.5</td>\n",
       "      <td>1256677264</td>\n",
       "    </tr>\n",
       "    <tr>\n",
       "      <th>5</th>\n",
       "      <td>1</td>\n",
       "      <td>1590</td>\n",
       "      <td>2.5</td>\n",
       "      <td>1256677236</td>\n",
       "    </tr>\n",
       "    <tr>\n",
       "      <th>6</th>\n",
       "      <td>1</td>\n",
       "      <td>1591</td>\n",
       "      <td>1.5</td>\n",
       "      <td>1256677475</td>\n",
       "    </tr>\n",
       "    <tr>\n",
       "      <th>7</th>\n",
       "      <td>1</td>\n",
       "      <td>2134</td>\n",
       "      <td>4.5</td>\n",
       "      <td>1256677464</td>\n",
       "    </tr>\n",
       "    <tr>\n",
       "      <th>8</th>\n",
       "      <td>1</td>\n",
       "      <td>2478</td>\n",
       "      <td>4.0</td>\n",
       "      <td>1256677239</td>\n",
       "    </tr>\n",
       "    <tr>\n",
       "      <th>9</th>\n",
       "      <td>1</td>\n",
       "      <td>2840</td>\n",
       "      <td>3.0</td>\n",
       "      <td>1256677500</td>\n",
       "    </tr>\n",
       "    <tr>\n",
       "      <th>10</th>\n",
       "      <td>1</td>\n",
       "      <td>2986</td>\n",
       "      <td>2.5</td>\n",
       "      <td>1256677496</td>\n",
       "    </tr>\n",
       "    <tr>\n",
       "      <th>11</th>\n",
       "      <td>1</td>\n",
       "      <td>3020</td>\n",
       "      <td>4.0</td>\n",
       "      <td>1256677260</td>\n",
       "    </tr>\n",
       "  </tbody>\n",
       "</table>\n",
       "</div>"
      ],
      "text/plain": [
       "    userId  movieId  rating   timestamp\n",
       "0        1      307     3.5  1256677221\n",
       "1        1      481     3.5  1256677456\n",
       "2        1     1091     1.5  1256677471\n",
       "3        1     1257     4.5  1256677460\n",
       "4        1     1449     4.5  1256677264\n",
       "5        1     1590     2.5  1256677236\n",
       "6        1     1591     1.5  1256677475\n",
       "7        1     2134     4.5  1256677464\n",
       "8        1     2478     4.0  1256677239\n",
       "9        1     2840     3.0  1256677500\n",
       "10       1     2986     2.5  1256677496\n",
       "11       1     3020     4.0  1256677260"
      ]
     },
     "execution_count": 6,
     "metadata": {},
     "output_type": "execute_result"
    }
   ],
   "source": [
    "ratings.head(12)"
   ]
  },
  {
   "cell_type": "markdown",
   "metadata": {},
   "source": [
    "#### shape function\n",
    "The shape function will return the number of rows and columns in a dataset in the form (rows, columns)"
   ]
  },
  {
   "cell_type": "code",
   "execution_count": 7,
   "metadata": {},
   "outputs": [
    {
     "data": {
      "text/plain": [
       "(58098, 3)"
      ]
     },
     "execution_count": 7,
     "metadata": {},
     "output_type": "execute_result"
    }
   ],
   "source": [
    "movies.shape"
   ]
  },
  {
   "cell_type": "code",
   "execution_count": 8,
   "metadata": {
    "scrolled": true
   },
   "outputs": [
    {
     "data": {
      "text/plain": [
       "(27753444, 4)"
      ]
     },
     "execution_count": 8,
     "metadata": {},
     "output_type": "execute_result"
    }
   ],
   "source": [
    "ratings.shape"
   ]
  },
  {
   "cell_type": "markdown",
   "metadata": {},
   "source": [
    "#### drop function\n",
    "At this point, it may be clear that not all columns in a dataset will be useful, and it may be desirable to remove those columns which won't be used. This can be achieved with the drop function.\n",
    "Here, we will drop the genres column from movies and the timestamp column from ratings, as we won't need to use them for this project."
   ]
  },
  {
   "cell_type": "code",
   "execution_count": 9,
   "metadata": {
    "scrolled": true
   },
   "outputs": [],
   "source": [
    "movies = movies.drop(['genres'], axis=1)"
   ]
  },
  {
   "cell_type": "code",
   "execution_count": 10,
   "metadata": {},
   "outputs": [],
   "source": [
    "ratings = ratings.drop(['timestamp'], axis=1)"
   ]
  },
  {
   "cell_type": "code",
   "execution_count": 11,
   "metadata": {},
   "outputs": [
    {
     "data": {
      "text/html": [
       "<div>\n",
       "<style scoped>\n",
       "    .dataframe tbody tr th:only-of-type {\n",
       "        vertical-align: middle;\n",
       "    }\n",
       "\n",
       "    .dataframe tbody tr th {\n",
       "        vertical-align: top;\n",
       "    }\n",
       "\n",
       "    .dataframe thead th {\n",
       "        text-align: right;\n",
       "    }\n",
       "</style>\n",
       "<table border=\"1\" class=\"dataframe\">\n",
       "  <thead>\n",
       "    <tr style=\"text-align: right;\">\n",
       "      <th></th>\n",
       "      <th>movieId</th>\n",
       "      <th>title</th>\n",
       "    </tr>\n",
       "  </thead>\n",
       "  <tbody>\n",
       "    <tr>\n",
       "      <th>0</th>\n",
       "      <td>1</td>\n",
       "      <td>Toy Story (1995)</td>\n",
       "    </tr>\n",
       "    <tr>\n",
       "      <th>1</th>\n",
       "      <td>2</td>\n",
       "      <td>Jumanji (1995)</td>\n",
       "    </tr>\n",
       "    <tr>\n",
       "      <th>2</th>\n",
       "      <td>3</td>\n",
       "      <td>Grumpier Old Men (1995)</td>\n",
       "    </tr>\n",
       "    <tr>\n",
       "      <th>3</th>\n",
       "      <td>4</td>\n",
       "      <td>Waiting to Exhale (1995)</td>\n",
       "    </tr>\n",
       "    <tr>\n",
       "      <th>4</th>\n",
       "      <td>5</td>\n",
       "      <td>Father of the Bride Part II (1995)</td>\n",
       "    </tr>\n",
       "  </tbody>\n",
       "</table>\n",
       "</div>"
      ],
      "text/plain": [
       "   movieId                               title\n",
       "0        1                    Toy Story (1995)\n",
       "1        2                      Jumanji (1995)\n",
       "2        3             Grumpier Old Men (1995)\n",
       "3        4            Waiting to Exhale (1995)\n",
       "4        5  Father of the Bride Part II (1995)"
      ]
     },
     "execution_count": 11,
     "metadata": {},
     "output_type": "execute_result"
    }
   ],
   "source": [
    "movies.head()"
   ]
  },
  {
   "cell_type": "code",
   "execution_count": 12,
   "metadata": {
    "scrolled": true
   },
   "outputs": [
    {
     "data": {
      "text/html": [
       "<div>\n",
       "<style scoped>\n",
       "    .dataframe tbody tr th:only-of-type {\n",
       "        vertical-align: middle;\n",
       "    }\n",
       "\n",
       "    .dataframe tbody tr th {\n",
       "        vertical-align: top;\n",
       "    }\n",
       "\n",
       "    .dataframe thead th {\n",
       "        text-align: right;\n",
       "    }\n",
       "</style>\n",
       "<table border=\"1\" class=\"dataframe\">\n",
       "  <thead>\n",
       "    <tr style=\"text-align: right;\">\n",
       "      <th></th>\n",
       "      <th>userId</th>\n",
       "      <th>movieId</th>\n",
       "      <th>rating</th>\n",
       "    </tr>\n",
       "  </thead>\n",
       "  <tbody>\n",
       "    <tr>\n",
       "      <th>0</th>\n",
       "      <td>1</td>\n",
       "      <td>307</td>\n",
       "      <td>3.5</td>\n",
       "    </tr>\n",
       "    <tr>\n",
       "      <th>1</th>\n",
       "      <td>1</td>\n",
       "      <td>481</td>\n",
       "      <td>3.5</td>\n",
       "    </tr>\n",
       "    <tr>\n",
       "      <th>2</th>\n",
       "      <td>1</td>\n",
       "      <td>1091</td>\n",
       "      <td>1.5</td>\n",
       "    </tr>\n",
       "    <tr>\n",
       "      <th>3</th>\n",
       "      <td>1</td>\n",
       "      <td>1257</td>\n",
       "      <td>4.5</td>\n",
       "    </tr>\n",
       "    <tr>\n",
       "      <th>4</th>\n",
       "      <td>1</td>\n",
       "      <td>1449</td>\n",
       "      <td>4.5</td>\n",
       "    </tr>\n",
       "  </tbody>\n",
       "</table>\n",
       "</div>"
      ],
      "text/plain": [
       "   userId  movieId  rating\n",
       "0       1      307     3.5\n",
       "1       1      481     3.5\n",
       "2       1     1091     1.5\n",
       "3       1     1257     4.5\n",
       "4       1     1449     4.5"
      ]
     },
     "execution_count": 12,
     "metadata": {},
     "output_type": "execute_result"
    }
   ],
   "source": [
    "ratings.head()"
   ]
  },
  {
   "cell_type": "markdown",
   "metadata": {},
   "source": [
    "### Merging datasets\n",
    "Now that we have our datasets reduced to only include their useful columns. We may merge them to create one dataset which will be used as the primary dataset going forward.\n",
    "Specifically, we may merge the datasets on a particular column. Both the movies and ratings datasets share the column movieId, and as such may be merged on this column using the merge function."
   ]
  },
  {
   "cell_type": "code",
   "execution_count": 13,
   "metadata": {},
   "outputs": [
    {
     "data": {
      "text/html": [
       "<div>\n",
       "<style scoped>\n",
       "    .dataframe tbody tr th:only-of-type {\n",
       "        vertical-align: middle;\n",
       "    }\n",
       "\n",
       "    .dataframe tbody tr th {\n",
       "        vertical-align: top;\n",
       "    }\n",
       "\n",
       "    .dataframe thead th {\n",
       "        text-align: right;\n",
       "    }\n",
       "</style>\n",
       "<table border=\"1\" class=\"dataframe\">\n",
       "  <thead>\n",
       "    <tr style=\"text-align: right;\">\n",
       "      <th></th>\n",
       "      <th>movieId</th>\n",
       "      <th>title</th>\n",
       "      <th>userId</th>\n",
       "      <th>rating</th>\n",
       "    </tr>\n",
       "  </thead>\n",
       "  <tbody>\n",
       "    <tr>\n",
       "      <th>0</th>\n",
       "      <td>1</td>\n",
       "      <td>Toy Story (1995)</td>\n",
       "      <td>4</td>\n",
       "      <td>4.0</td>\n",
       "    </tr>\n",
       "    <tr>\n",
       "      <th>1</th>\n",
       "      <td>1</td>\n",
       "      <td>Toy Story (1995)</td>\n",
       "      <td>10</td>\n",
       "      <td>5.0</td>\n",
       "    </tr>\n",
       "    <tr>\n",
       "      <th>2</th>\n",
       "      <td>1</td>\n",
       "      <td>Toy Story (1995)</td>\n",
       "      <td>14</td>\n",
       "      <td>4.5</td>\n",
       "    </tr>\n",
       "    <tr>\n",
       "      <th>3</th>\n",
       "      <td>1</td>\n",
       "      <td>Toy Story (1995)</td>\n",
       "      <td>15</td>\n",
       "      <td>4.0</td>\n",
       "    </tr>\n",
       "    <tr>\n",
       "      <th>4</th>\n",
       "      <td>1</td>\n",
       "      <td>Toy Story (1995)</td>\n",
       "      <td>22</td>\n",
       "      <td>4.0</td>\n",
       "    </tr>\n",
       "  </tbody>\n",
       "</table>\n",
       "</div>"
      ],
      "text/plain": [
       "   movieId             title  userId  rating\n",
       "0        1  Toy Story (1995)       4     4.0\n",
       "1        1  Toy Story (1995)      10     5.0\n",
       "2        1  Toy Story (1995)      14     4.5\n",
       "3        1  Toy Story (1995)      15     4.0\n",
       "4        1  Toy Story (1995)      22     4.0"
      ]
     },
     "execution_count": 13,
     "metadata": {},
     "output_type": "execute_result"
    }
   ],
   "source": [
    "df = pd.merge(movies, ratings, on='movieId')\n",
    "df.head()"
   ]
  },
  {
   "cell_type": "markdown",
   "metadata": {},
   "source": [
    "### Visualising Data"
   ]
  },
  {
   "cell_type": "markdown",
   "metadata": {},
   "source": [
    "We may use the Matplotlib library to create visualisations based on the dataset in the form of charts and plots.\n",
    "For example, here, we can create a visualisation to show the movies with the highest number of ratings."
   ]
  },
  {
   "cell_type": "code",
   "execution_count": 14,
   "metadata": {},
   "outputs": [],
   "source": [
    "mostRatedMoviesPlot = df.title.value_counts().sort_values().tail(10)"
   ]
  },
  {
   "cell_type": "code",
   "execution_count": 15,
   "metadata": {},
   "outputs": [
    {
     "data": {
      "text/plain": [
       "<matplotlib.axes._subplots.AxesSubplot at 0x7fed2eb4beb8>"
      ]
     },
     "execution_count": 15,
     "metadata": {},
     "output_type": "execute_result"
    },
    {
     "data": {
      "image/png": "[encoded data removed]",
      "text/plain": [
       "<Figure size 432x288 with 1 Axes>"
      ]
     },
     "metadata": {},
     "output_type": "display_data"
    }
   ],
   "source": [
    "mostRatedMoviesPlot.plot.barh()"
   ]
  },
  {
   "cell_type": "markdown",
   "metadata": {},
   "source": [
    "And similarly, we may create a visualisation showing the least rated movies"
   ]
  },
  {
   "cell_type": "code",
   "execution_count": 16,
   "metadata": {},
   "outputs": [
    {
     "data": {
      "text/plain": [
       "<matplotlib.axes._subplots.AxesSubplot at 0x7fed2ea41710>"
      ]
     },
     "execution_count": 16,
     "metadata": {},
     "output_type": "execute_result"
    },
    {
     "data": {
      "image/png": "[encoded data removed]",
      "text/plain": [
       "<Figure size 432x288 with 1 Axes>"
      ]
     },
     "metadata": {},
     "output_type": "display_data"
    }
   ],
   "source": [
    "leastRatedMoviesPlot = df.title.value_counts().sort_values().head(10)\n",
    "leastRatedMoviesPlot.plot.barh()"
   ]
  },
  {
   "cell_type": "markdown",
   "metadata": {},
   "source": [
    "## Building the Model"
   ]
  },
  {
   "cell_type": "markdown",
   "metadata": {},
   "source": [
    "To begin, the dataset must be edited to fit the model. For this, we will need to add a count to each movie which represents the total number of ratings present in the dataset, and then add a column to the main dataset which represents this count."
   ]
  },
  {
   "cell_type": "code",
   "execution_count": 17,
   "metadata": {},
   "outputs": [
    {
     "data": {
      "text/html": [
       "<div>\n",
       "<style scoped>\n",
       "    .dataframe tbody tr th:only-of-type {\n",
       "        vertical-align: middle;\n",
       "    }\n",
       "\n",
       "    .dataframe tbody tr th {\n",
       "        vertical-align: top;\n",
       "    }\n",
       "\n",
       "    .dataframe thead th {\n",
       "        text-align: right;\n",
       "    }\n",
       "</style>\n",
       "<table border=\"1\" class=\"dataframe\">\n",
       "  <thead>\n",
       "    <tr style=\"text-align: right;\">\n",
       "      <th></th>\n",
       "      <th>movieId</th>\n",
       "      <th>title</th>\n",
       "      <th>userId</th>\n",
       "      <th>rating</th>\n",
       "      <th>count</th>\n",
       "    </tr>\n",
       "  </thead>\n",
       "  <tbody>\n",
       "    <tr>\n",
       "      <th>0</th>\n",
       "      <td>1</td>\n",
       "      <td>Toy Story (1995)</td>\n",
       "      <td>4</td>\n",
       "      <td>4.0</td>\n",
       "      <td>68469</td>\n",
       "    </tr>\n",
       "    <tr>\n",
       "      <th>1</th>\n",
       "      <td>1</td>\n",
       "      <td>Toy Story (1995)</td>\n",
       "      <td>10</td>\n",
       "      <td>5.0</td>\n",
       "      <td>68469</td>\n",
       "    </tr>\n",
       "    <tr>\n",
       "      <th>2</th>\n",
       "      <td>1</td>\n",
       "      <td>Toy Story (1995)</td>\n",
       "      <td>14</td>\n",
       "      <td>4.5</td>\n",
       "      <td>68469</td>\n",
       "    </tr>\n",
       "    <tr>\n",
       "      <th>3</th>\n",
       "      <td>1</td>\n",
       "      <td>Toy Story (1995)</td>\n",
       "      <td>15</td>\n",
       "      <td>4.0</td>\n",
       "      <td>68469</td>\n",
       "    </tr>\n",
       "    <tr>\n",
       "      <th>4</th>\n",
       "      <td>1</td>\n",
       "      <td>Toy Story (1995)</td>\n",
       "      <td>22</td>\n",
       "      <td>4.0</td>\n",
       "      <td>68469</td>\n",
       "    </tr>\n",
       "  </tbody>\n",
       "</table>\n",
       "</div>"
      ],
      "text/plain": [
       "   movieId             title  userId  rating  count\n",
       "0        1  Toy Story (1995)       4     4.0  68469\n",
       "1        1  Toy Story (1995)      10     5.0  68469\n",
       "2        1  Toy Story (1995)      14     4.5  68469\n",
       "3        1  Toy Story (1995)      15     4.0  68469\n",
       "4        1  Toy Story (1995)      22     4.0  68469"
      ]
     },
     "execution_count": 17,
     "metadata": {},
     "output_type": "execute_result"
    }
   ],
   "source": [
    "df['count'] = df.groupby('title')['rating'].transform('count')\n",
    "\n",
    "df.head()\n"
   ]
  },
  {
   "cell_type": "code",
   "execution_count": 18,
   "metadata": {},
   "outputs": [
    {
     "data": {
      "text/plain": [
       "(27753444, 5)"
      ]
     },
     "execution_count": 18,
     "metadata": {},
     "output_type": "execute_result"
    }
   ],
   "source": [
    "df.shape"
   ]
  },
  {
   "cell_type": "markdown",
   "metadata": {},
   "source": [
    "Now, given that the dataset has millions of rows, this is likely to cause problems later. In the interest of mitigating any errors later, we're going to limit the movies present in the dataset.\n",
    "\n",
    "Here, our dataset will store only movie data that has a count of 5000 or more. In other words, only movies which have more than 5000 ratings will be present in the dataset.\n",
    "This should cut the amount of rows considerably, and to the point where we can work with it.\n",
    "\n",
    "As you can see below, this has cut the number of entries in the dataset from over 27 million down to just over 19 million.\n",
    "\n",
    "NOTE: 5000 was the limit chosen based on some experimentation. Obviously, this will limit the movies present in the dataset, so it may be prudent to experiment with the cell below and discern an appropriate minimum count for yourself."
   ]
  },
  {
   "cell_type": "code",
   "execution_count": 19,
   "metadata": {
    "scrolled": true
   },
   "outputs": [
    {
     "data": {
      "text/plain": [
       "(19078140, 5)"
      ]
     },
     "execution_count": 19,
     "metadata": {},
     "output_type": "execute_result"
    }
   ],
   "source": [
    "df = df.query('count >= 5000')\n",
    "df.shape"
   ]
  },
  {
   "cell_type": "markdown",
   "metadata": {},
   "source": [
    "Now with the dataset cut down to a workable size, we can create a pivot table based on the movie title, the userId, and the rating which each user gave each movie which they have rated."
   ]
  },
  {
   "cell_type": "code",
   "execution_count": 20,
   "metadata": {},
   "outputs": [
    {
     "data": {
      "text/html": [
       "<div>\n",
       "<style scoped>\n",
       "    .dataframe tbody tr th:only-of-type {\n",
       "        vertical-align: middle;\n",
       "    }\n",
       "\n",
       "    .dataframe tbody tr th {\n",
       "        vertical-align: top;\n",
       "    }\n",
       "\n",
       "    .dataframe thead th {\n",
       "        text-align: right;\n",
       "    }\n",
       "</style>\n",
       "<table border=\"1\" class=\"dataframe\">\n",
       "  <thead>\n",
       "    <tr style=\"text-align: right;\">\n",
       "      <th>userId</th>\n",
       "      <th>1</th>\n",
       "      <th>2</th>\n",
       "      <th>3</th>\n",
       "      <th>4</th>\n",
       "      <th>5</th>\n",
       "      <th>6</th>\n",
       "      <th>7</th>\n",
       "      <th>8</th>\n",
       "      <th>9</th>\n",
       "      <th>10</th>\n",
       "      <th>...</th>\n",
       "      <th>283219</th>\n",
       "      <th>283220</th>\n",
       "      <th>283221</th>\n",
       "      <th>283222</th>\n",
       "      <th>283223</th>\n",
       "      <th>283224</th>\n",
       "      <th>283225</th>\n",
       "      <th>283226</th>\n",
       "      <th>283227</th>\n",
       "      <th>283228</th>\n",
       "    </tr>\n",
       "    <tr>\n",
       "      <th>title</th>\n",
       "      <th></th>\n",
       "      <th></th>\n",
       "      <th></th>\n",
       "      <th></th>\n",
       "      <th></th>\n",
       "      <th></th>\n",
       "      <th></th>\n",
       "      <th></th>\n",
       "      <th></th>\n",
       "      <th></th>\n",
       "      <th></th>\n",
       "      <th></th>\n",
       "      <th></th>\n",
       "      <th></th>\n",
       "      <th></th>\n",
       "      <th></th>\n",
       "      <th></th>\n",
       "      <th></th>\n",
       "      <th></th>\n",
       "      <th></th>\n",
       "      <th></th>\n",
       "    </tr>\n",
       "  </thead>\n",
       "  <tbody>\n",
       "    <tr>\n",
       "      <th>(500) Days of Summer (2009)</th>\n",
       "      <td>0.0</td>\n",
       "      <td>0.0</td>\n",
       "      <td>0.0</td>\n",
       "      <td>0.0</td>\n",
       "      <td>0.0</td>\n",
       "      <td>0.0</td>\n",
       "      <td>0.0</td>\n",
       "      <td>0.0</td>\n",
       "      <td>0.0</td>\n",
       "      <td>0.0</td>\n",
       "      <td>...</td>\n",
       "      <td>0.0</td>\n",
       "      <td>0.0</td>\n",
       "      <td>0.0</td>\n",
       "      <td>0.0</td>\n",
       "      <td>0.0</td>\n",
       "      <td>0.0</td>\n",
       "      <td>0.0</td>\n",
       "      <td>0.0</td>\n",
       "      <td>0.0</td>\n",
       "      <td>0.0</td>\n",
       "    </tr>\n",
       "    <tr>\n",
       "      <th>10 Things I Hate About You (1999)</th>\n",
       "      <td>0.0</td>\n",
       "      <td>0.0</td>\n",
       "      <td>0.0</td>\n",
       "      <td>0.0</td>\n",
       "      <td>0.0</td>\n",
       "      <td>0.0</td>\n",
       "      <td>0.0</td>\n",
       "      <td>0.0</td>\n",
       "      <td>0.0</td>\n",
       "      <td>0.0</td>\n",
       "      <td>...</td>\n",
       "      <td>0.0</td>\n",
       "      <td>0.0</td>\n",
       "      <td>0.0</td>\n",
       "      <td>0.0</td>\n",
       "      <td>0.0</td>\n",
       "      <td>0.0</td>\n",
       "      <td>0.0</td>\n",
       "      <td>0.0</td>\n",
       "      <td>0.0</td>\n",
       "      <td>0.0</td>\n",
       "    </tr>\n",
       "    <tr>\n",
       "      <th>101 Dalmatians (1996)</th>\n",
       "      <td>0.0</td>\n",
       "      <td>0.0</td>\n",
       "      <td>0.0</td>\n",
       "      <td>0.0</td>\n",
       "      <td>0.0</td>\n",
       "      <td>0.0</td>\n",
       "      <td>0.0</td>\n",
       "      <td>0.0</td>\n",
       "      <td>0.0</td>\n",
       "      <td>0.0</td>\n",
       "      <td>...</td>\n",
       "      <td>0.0</td>\n",
       "      <td>0.0</td>\n",
       "      <td>0.0</td>\n",
       "      <td>0.0</td>\n",
       "      <td>0.0</td>\n",
       "      <td>0.0</td>\n",
       "      <td>0.0</td>\n",
       "      <td>0.0</td>\n",
       "      <td>0.0</td>\n",
       "      <td>0.0</td>\n",
       "    </tr>\n",
       "    <tr>\n",
       "      <th>101 Dalmatians (One Hundred and One Dalmatians) (1961)</th>\n",
       "      <td>0.0</td>\n",
       "      <td>0.0</td>\n",
       "      <td>0.0</td>\n",
       "      <td>0.0</td>\n",
       "      <td>0.0</td>\n",
       "      <td>0.0</td>\n",
       "      <td>0.0</td>\n",
       "      <td>0.0</td>\n",
       "      <td>0.0</td>\n",
       "      <td>0.0</td>\n",
       "      <td>...</td>\n",
       "      <td>0.0</td>\n",
       "      <td>0.0</td>\n",
       "      <td>0.0</td>\n",
       "      <td>0.0</td>\n",
       "      <td>0.0</td>\n",
       "      <td>0.0</td>\n",
       "      <td>0.0</td>\n",
       "      <td>0.0</td>\n",
       "      <td>0.0</td>\n",
       "      <td>0.0</td>\n",
       "    </tr>\n",
       "    <tr>\n",
       "      <th>12 Angry Men (1957)</th>\n",
       "      <td>0.0</td>\n",
       "      <td>0.0</td>\n",
       "      <td>0.0</td>\n",
       "      <td>1.5</td>\n",
       "      <td>0.0</td>\n",
       "      <td>0.0</td>\n",
       "      <td>0.0</td>\n",
       "      <td>0.0</td>\n",
       "      <td>0.0</td>\n",
       "      <td>0.0</td>\n",
       "      <td>...</td>\n",
       "      <td>0.0</td>\n",
       "      <td>0.0</td>\n",
       "      <td>0.0</td>\n",
       "      <td>0.0</td>\n",
       "      <td>0.0</td>\n",
       "      <td>5.0</td>\n",
       "      <td>0.0</td>\n",
       "      <td>0.0</td>\n",
       "      <td>0.0</td>\n",
       "      <td>0.0</td>\n",
       "    </tr>\n",
       "  </tbody>\n",
       "</table>\n",
       "<p>5 rows × 281662 columns</p>\n",
       "</div>"
      ],
      "text/plain": [
       "userId                                              1       2       3       \\\n",
       "title                                                                        \n",
       "(500) Days of Summer (2009)                            0.0     0.0     0.0   \n",
       "10 Things I Hate About You (1999)                      0.0     0.0     0.0   \n",
       "101 Dalmatians (1996)                                  0.0     0.0     0.0   \n",
       "101 Dalmatians (One Hundred and One Dalmatians)...     0.0     0.0     0.0   \n",
       "12 Angry Men (1957)                                    0.0     0.0     0.0   \n",
       "\n",
       "userId                                              4       5       6       \\\n",
       "title                                                                        \n",
       "(500) Days of Summer (2009)                            0.0     0.0     0.0   \n",
       "10 Things I Hate About You (1999)                      0.0     0.0     0.0   \n",
       "101 Dalmatians (1996)                                  0.0     0.0     0.0   \n",
       "101 Dalmatians (One Hundred and One Dalmatians)...     0.0     0.0     0.0   \n",
       "12 Angry Men (1957)                                    1.5     0.0     0.0   \n",
       "\n",
       "userId                                              7       8       9       \\\n",
       "title                                                                        \n",
       "(500) Days of Summer (2009)                            0.0     0.0     0.0   \n",
       "10 Things I Hate About You (1999)                      0.0     0.0     0.0   \n",
       "101 Dalmatians (1996)                                  0.0     0.0     0.0   \n",
       "101 Dalmatians (One Hundred and One Dalmatians)...     0.0     0.0     0.0   \n",
       "12 Angry Men (1957)                                    0.0     0.0     0.0   \n",
       "\n",
       "userId                                              10      ...  283219  \\\n",
       "title                                                       ...           \n",
       "(500) Days of Summer (2009)                            0.0  ...     0.0   \n",
       "10 Things I Hate About You (1999)                      0.0  ...     0.0   \n",
       "101 Dalmatians (1996)                                  0.0  ...     0.0   \n",
       "101 Dalmatians (One Hundred and One Dalmatians)...     0.0  ...     0.0   \n",
       "12 Angry Men (1957)                                    0.0  ...     0.0   \n",
       "\n",
       "userId                                              283220  283221  283222  \\\n",
       "title                                                                        \n",
       "(500) Days of Summer (2009)                            0.0     0.0     0.0   \n",
       "10 Things I Hate About You (1999)                      0.0     0.0     0.0   \n",
       "101 Dalmatians (1996)                                  0.0     0.0     0.0   \n",
       "101 Dalmatians (One Hundred and One Dalmatians)...     0.0     0.0     0.0   \n",
       "12 Angry Men (1957)                                    0.0     0.0     0.0   \n",
       "\n",
       "userId                                              283223  283224  283225  \\\n",
       "title                                                                        \n",
       "(500) Days of Summer (2009)                            0.0     0.0     0.0   \n",
       "10 Things I Hate About You (1999)                      0.0     0.0     0.0   \n",
       "101 Dalmatians (1996)                                  0.0     0.0     0.0   \n",
       "101 Dalmatians (One Hundred and One Dalmatians)...     0.0     0.0     0.0   \n",
       "12 Angry Men (1957)                                    0.0     5.0     0.0   \n",
       "\n",
       "userId                                              283226  283227  283228  \n",
       "title                                                                       \n",
       "(500) Days of Summer (2009)                            0.0     0.0     0.0  \n",
       "10 Things I Hate About You (1999)                      0.0     0.0     0.0  \n",
       "101 Dalmatians (1996)                                  0.0     0.0     0.0  \n",
       "101 Dalmatians (One Hundred and One Dalmatians)...     0.0     0.0     0.0  \n",
       "12 Angry Men (1957)                                    0.0     0.0     0.0  \n",
       "\n",
       "[5 rows x 281662 columns]"
      ]
     },
     "execution_count": 20,
     "metadata": {},
     "output_type": "execute_result"
    }
   ],
   "source": [
    "final_df = df.pivot_table(index='title',columns='userId',values='rating').fillna(0)\n",
    "final_df.head()\n"
   ]
  },
  {
   "cell_type": "markdown",
   "metadata": {},
   "source": [
    "The final dataframe has been created, which is now a pivot table holding 1344 movies and their ratings from 281662 users"
   ]
  },
  {
   "cell_type": "code",
   "execution_count": 21,
   "metadata": {},
   "outputs": [
    {
     "data": {
      "text/plain": [
       "(1344, 281662)"
      ]
     },
     "execution_count": 21,
     "metadata": {},
     "output_type": "execute_result"
    }
   ],
   "source": [
    "final_df.shape"
   ]
  },
  {
   "cell_type": "markdown",
   "metadata": {},
   "source": [
    "### SciKit-Learn\n"
   ]
  },
  {
   "cell_type": "markdown",
   "metadata": {},
   "source": [
    "Scikit-Learn is a free machine learning library intended for use with Python. It includes functions for carrying out a number of machine learning algorithms on data, and as such, may be used here for K-Nearest Neighbours.\n",
    "\n",
    "Here, we will set up a sparse matrix from the final database and fit the K-Nearest Neighbours model based on this matrix.\n",
    "\n",
    "Below, we will call the NearestNeighbors function from sklearn without any arguments, which will cause the function to execute with its default parameters.\n",
    "The model may be tweaked as these parameters are set and changed beyond the default values, and an explanation of parameters and valid values can be found here:\n",
    "https://scikit-learn.org/stable/modules/generated/sklearn.neighbors.NearestNeighbors.html"
   ]
  },
  {
   "cell_type": "code",
   "execution_count": 22,
   "metadata": {},
   "outputs": [
    {
     "data": {
      "text/plain": [
       "NearestNeighbors(algorithm='auto', leaf_size=30, metric='minkowski',\n",
       "                 metric_params=None, n_jobs=None, n_neighbors=5, p=2,\n",
       "                 radius=1.0)"
      ]
     },
     "execution_count": 22,
     "metadata": {},
     "output_type": "execute_result"
    }
   ],
   "source": [
    "#[3]\n",
    "from scipy.sparse import csr_matrix\n",
    "\n",
    "matrix = csr_matrix(final_df.values)\n",
    "\n",
    "from sklearn.neighbors import NearestNeighbors\n",
    "\n",
    "model_knn = NearestNeighbors()\n",
    "model_knn.fit(matrix)"
   ]
  },
  {
   "cell_type": "markdown",
   "metadata": {},
   "source": [
    "Now we can use this model to find recommendations for a specific movie.\n",
    "\n",
    "The below function will take a string, which should be the title of the movie we wish to see recommendations for.\n",
    "The movie title will then be searched for in the dataset, and once found, a list will be created and printed, with the aid of our model, with a top 10 recommended movies based on our chosen movie. \n",
    "\n",
    "The list is printed in order of the 10 closest movies to our target movie as calculated by our model."
   ]
  },
  {
   "cell_type": "code",
   "execution_count": 23,
   "metadata": {},
   "outputs": [],
   "source": [
    "def chooseMovie(movieString):\n",
    "    #Initialise index to 0\n",
    "    i = 0\n",
    "    \n",
    "    #Iterate through dataset Until a movie is found which contains movieString\n",
    "    for movie in final_df.index.values:\n",
    "        if movieString in movie:\n",
    "            chosenMovie = movie\n",
    "            movieIndex = i\n",
    "            break\n",
    "            \n",
    "        else: \n",
    "            i = i + 1\n",
    "            \n",
    "    #[4]        \n",
    "    distances, indices = model_knn.kneighbors(final_df.iloc[movieIndex,:].values.reshape(1, -1), n_neighbors = 11)\n",
    "    \n",
    "    print(\"Chosen Movie:\\n\" + movie + \"\\n\")\n",
    "\n",
    "    for i in range(1, len(distances.flatten())):\n",
    "            print(str(i) + \": \" + final_df.index[indices.flatten()[i]])\n",
    "            "
   ]
  },
  {
   "cell_type": "markdown",
   "metadata": {},
   "source": [
    "## Exploring the Results"
   ]
  },
  {
   "cell_type": "markdown",
   "metadata": {},
   "source": [
    "Now with the model created and ready for use with our chooseMovie function, we can begin to explore the results.\n",
    "In this case, we will call the chooseMovie function on a variety of popular movies from different genres and see the kinds of recommendations we get from our model."
   ]
  },
  {
   "cell_type": "code",
   "execution_count": 24,
   "metadata": {
    "scrolled": true
   },
   "outputs": [
    {
     "name": "stdout",
     "output_type": "stream",
     "text": [
      "Chosen Movie:\n",
      "Monty Python and the Holy Grail (1975)\n",
      "\n",
      "1: Monty Python's Life of Brian (1979)\n",
      "2: Monty Python's The Meaning of Life (1983)\n",
      "3: Fish Called Wanda, A (1988)\n",
      "4: This Is Spinal Tap (1984)\n",
      "5: Young Frankenstein (1974)\n",
      "6: Blues Brothers, The (1980)\n",
      "7: Airplane! (1980)\n",
      "8: Raising Arizona (1987)\n",
      "9: Ghostbusters (a.k.a. Ghost Busters) (1984)\n",
      "10: Ferris Bueller's Day Off (1986)\n"
     ]
    }
   ],
   "source": [
    "chooseMovie(\"Monty Python and the Holy Grail\")"
   ]
  },
  {
   "cell_type": "code",
   "execution_count": 25,
   "metadata": {},
   "outputs": [
    {
     "name": "stdout",
     "output_type": "stream",
     "text": [
      "Chosen Movie:\n",
      "Star Wars: Episode V - The Empire Strikes Back (1980)\n",
      "\n",
      "1: Star Wars: Episode VI - Return of the Jedi (1983)\n",
      "2: Star Wars: Episode IV - A New Hope (1977)\n",
      "3: Raiders of the Lost Ark (Indiana Jones and the Raiders of the Lost Ark) (1981)\n",
      "4: Indiana Jones and the Last Crusade (1989)\n",
      "5: Terminator, The (1984)\n",
      "6: Aliens (1986)\n",
      "7: Star Wars: Episode I - The Phantom Menace (1999)\n",
      "8: Alien (1979)\n",
      "9: Back to the Future (1985)\n",
      "10: Die Hard (1988)\n"
     ]
    }
   ],
   "source": [
    "chooseMovie(\"Empire Strikes\")"
   ]
  },
  {
   "cell_type": "code",
   "execution_count": 26,
   "metadata": {},
   "outputs": [
    {
     "name": "stdout",
     "output_type": "stream",
     "text": [
      "Chosen Movie:\n",
      "Godfather, The (1972)\n",
      "\n",
      "1: Godfather: Part II, The (1974)\n",
      "2: Goodfellas (1990)\n",
      "3: Apocalypse Now (1979)\n",
      "4: One Flew Over the Cuckoo's Nest (1975)\n",
      "5: Reservoir Dogs (1992)\n",
      "6: Full Metal Jacket (1987)\n",
      "7: Jaws (1975)\n",
      "8: Good, the Bad and the Ugly, The (Buono, il brutto, il cattivo, Il) (1966)\n",
      "9: Taxi Driver (1976)\n",
      "10: Scarface (1983)\n"
     ]
    }
   ],
   "source": [
    "chooseMovie(\"Godfather, The\")"
   ]
  },
  {
   "cell_type": "code",
   "execution_count": 27,
   "metadata": {
    "scrolled": false
   },
   "outputs": [
    {
     "name": "stdout",
     "output_type": "stream",
     "text": [
      "Chosen Movie:\n",
      "Clockwork Orange, A (1971)\n",
      "\n",
      "1: Brazil (1985)\n",
      "2: 2001: A Space Odyssey (1968)\n",
      "3: Full Metal Jacket (1987)\n",
      "4: Shining, The (1980)\n",
      "5: Pi (1998)\n",
      "6: Mulholland Drive (2001)\n",
      "7: Blue Velvet (1986)\n",
      "8: Fear and Loathing in Las Vegas (1998)\n",
      "9: Apocalypse Now (1979)\n",
      "10: RoboCop (1987)\n"
     ]
    }
   ],
   "source": [
    "chooseMovie(\"Clockwork Orange, A\")"
   ]
  },
  {
   "cell_type": "code",
   "execution_count": 28,
   "metadata": {},
   "outputs": [
    {
     "name": "stdout",
     "output_type": "stream",
     "text": [
      "Chosen Movie:\n",
      "Rocky Horror Picture Show, The (1975)\n",
      "\n",
      "1: Honey, I Blew Up the Kid (1992)\n",
      "2: Buffy the Vampire Slayer (1992)\n",
      "3: Logan's Run (1976)\n",
      "4: Superman III (1983)\n",
      "5: I Still Know What You Did Last Summer (1998)\n",
      "6: Desperately Seeking Susan (1985)\n",
      "7: Little Shop of Horrors (1986)\n",
      "8: Gremlins 2: The New Batch (1990)\n",
      "9: RoboCop 2 (1990)\n",
      "10: Speed 2: Cruise Control (1997)\n"
     ]
    }
   ],
   "source": [
    "chooseMovie(\"Rocky Horror Picture Show\")"
   ]
  },
  {
   "cell_type": "code",
   "execution_count": 29,
   "metadata": {
    "scrolled": true
   },
   "outputs": [
    {
     "name": "stdout",
     "output_type": "stream",
     "text": [
      "Chosen Movie:\n",
      "Frozen (2013)\n",
      "\n",
      "1: Brave (2012)\n",
      "2: Wreck-It Ralph (2012)\n",
      "3: Tangled (2010)\n",
      "4: Megamind (2010)\n",
      "5: The Lego Movie (2014)\n",
      "6: Jurassic World (2015)\n",
      "7: Pirates of the Caribbean: On Stranger Tides (2011)\n",
      "8: Twilight (2008)\n",
      "9: Ted (2012)\n",
      "10: The Hunger Games: Mockingjay - Part 1 (2014)\n"
     ]
    }
   ],
   "source": [
    "chooseMovie(\"Frozen\")"
   ]
  },
  {
   "cell_type": "code",
   "execution_count": 30,
   "metadata": {
    "scrolled": true
   },
   "outputs": [
    {
     "name": "stdout",
     "output_type": "stream",
     "text": [
      "Chosen Movie:\n",
      "Exorcist, The (1973)\n",
      "\n",
      "1: Halloween (1978)\n",
      "2: Omen, The (1976)\n",
      "3: Poltergeist (1982)\n",
      "4: Carrie (1976)\n",
      "5: Evil Dead, The (1981)\n",
      "6: Rosemary's Baby (1968)\n",
      "7: Nightmare on Elm Street, A (1984)\n",
      "8: Gremlins 2: The New Batch (1990)\n",
      "9: Jaws 2 (1978)\n",
      "10: Misery (1990)\n"
     ]
    }
   ],
   "source": [
    "chooseMovie(\"Exorcist\")"
   ]
  },
  {
   "cell_type": "code",
   "execution_count": 31,
   "metadata": {},
   "outputs": [
    {
     "name": "stdout",
     "output_type": "stream",
     "text": [
      "Chosen Movie:\n",
      "Kill Bill: Vol. 1 (2003)\n",
      "\n",
      "1: Kill Bill: Vol. 2 (2004)\n",
      "2: Sin City (2005)\n",
      "3: Matrix Reloaded, The (2003)\n",
      "4: Matrix Revolutions, The (2003)\n",
      "5: Shaun of the Dead (2004)\n",
      "6: Spider-Man 2 (2004)\n",
      "7: Star Wars: Episode III - Revenge of the Sith (2005)\n",
      "8: V for Vendetta (2006)\n",
      "9: Lost in Translation (2003)\n",
      "10: 28 Days Later (2002)\n"
     ]
    }
   ],
   "source": [
    "chooseMovie(\"Kill Bill\")"
   ]
  },
  {
   "cell_type": "code",
   "execution_count": 32,
   "metadata": {
    "scrolled": false
   },
   "outputs": [
    {
     "name": "stdout",
     "output_type": "stream",
     "text": [
      "Chosen Movie:\n",
      "Donnie Darko (2001)\n",
      "\n",
      "1: The Machinist (2004)\n",
      "2: Requiem for a Dream (2000)\n",
      "3: 28 Days Later (2002)\n",
      "4: Shaun of the Dead (2004)\n",
      "5: Children of Men (2006)\n",
      "6: Sin City (2005)\n",
      "7: Garden State (2004)\n",
      "8: Pan's Labyrinth (Laberinto del fauno, El) (2006)\n",
      "9: Mulholland Drive (2001)\n",
      "10: Life Aquatic with Steve Zissou, The (2004)\n"
     ]
    }
   ],
   "source": [
    "chooseMovie(\"Donnie Darko\")"
   ]
  },
  {
   "cell_type": "markdown",
   "metadata": {},
   "source": [
    "# Conclusion"
   ]
  },
  {
   "cell_type": "markdown",
   "metadata": {},
   "source": [
    "There are a couple of observations to be made from the examples above which may indicate the success of our recommendation system. \n",
    "\n",
    "Firstly, if we choose a movie that has a sequel or sequels, these sequels will often be recommended, as one might expect from a decent recommendation system. This can be observed in the case of Kill Bill, Star Wars, and The Godfather. (Interestingly, Godfather: Part III was not recommended for The Godfather.)\n",
    "\n",
    "Secondly, when a movie is chosen which has a strong link to a specific genre, most or all of the recommended movies will also match this genre. This is particularly clear in the case of The Exorcist, where all recommended movies belong to the Horror genre, and in the case of Frozen, where 9 out of the 10 recommended movies could be considered Family movies. (Except for Ted, of course, which should definitely not be viewed by children, despite the title character being a cute talking teddy bear.)"
   ]
  },
  {
   "cell_type": "markdown",
   "metadata": {},
   "source": [
    "### Potential Problems and Future Improvements"
   ]
  },
  {
   "cell_type": "markdown",
   "metadata": {},
   "source": [
    "#### Movies Present\n",
    "Due to the fact that we limited the dataset to movies which had 5000 or more ratings, there are a lot of movies that didn't make it into the final dataset. Ideally, we could find a way to get the system working without this limitation.\n",
    "\n",
    "#### Popularity Bias\n",
    "This system, like many other recommendation systems is also susceptible to popularity bias, wherin movies with a higher number of ratings are more likely to be recommended than movies with a lower number.\n",
    "\n",
    "#### Age Rating\n",
    "In some cases, for example wwhen a Family movie is chosen, it is possible that our system will recommend movies which are intended to be viewed by mature audiences only. This is because the dataset used does not contain data representing the age rating for a movie, and as such our system does not account for this.\n",
    "The system could potentially work better and certainly safer if, for example, movies rated 15+ were excluded from recommendations for a movie rated U."
   ]
  },
  {
   "cell_type": "markdown",
   "metadata": {},
   "source": [
    "# References"
   ]
  },
  {
   "cell_type": "markdown",
   "metadata": {},
   "source": [
    "[1]  https://jupyter.org/ \n",
    "\n",
    "https://www.dataquest.io/blog/jupyter-notebook-tips-tricks-shortcuts/\n",
    "\n",
    "[2] https://towardsdatascience.com/jypyter-notebook-shortcuts-bf0101a98330\n",
    "\n",
    "[3] https://www.kaggle.com/yesvenkat/knn-recommendation-system\n",
    "\n",
    "[4] https://stackoverflow.com/questions/52644760/returning-a-list-of-nearest-neighbors-from-knn"
   ]
  },
  {
   "cell_type": "code",
   "execution_count": null,
   "metadata": {},
   "outputs": [],
   "source": []
  }
 ],
 "metadata": {
  "kernelspec": {
   "display_name": "Python 3",
   "language": "python",
   "name": "python3"
  },
  "language_info": {
   "codemirror_mode": {
    "name": "ipython",
    "version": 3
   },
   "file_extension": ".py",
   "mimetype": "text/x-python",
   "name": "python",
   "nbconvert_exporter": "python",
   "pygments_lexer": "ipython3",
   "version": "3.6.9"
  }
 },
 "nbformat": 4,
 "nbformat_minor": 2
}
